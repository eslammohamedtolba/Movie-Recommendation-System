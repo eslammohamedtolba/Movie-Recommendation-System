{
 "cells": [
  {
   "cell_type": "markdown",
   "id": "9473d962",
   "metadata": {},
   "source": [
    "## Import required dependencies"
   ]
  },
  {
   "cell_type": "code",
   "execution_count": 1,
   "id": "dd560224",
   "metadata": {
    "_cell_guid": "b1076dfc-b9ad-4769-8c92-a6c4dae69d19",
    "_uuid": "8f2839f25d086af736a60e9eeb907d3b93b6e0e5",
    "execution": {
     "iopub.execute_input": "2024-06-23T20:16:28.210008Z",
     "iopub.status.busy": "2024-06-23T20:16:28.209301Z",
     "iopub.status.idle": "2024-06-23T20:16:30.887224Z",
     "shell.execute_reply": "2024-06-23T20:16:30.885930Z"
    },
    "papermill": {
     "duration": 2.690672,
     "end_time": "2024-06-23T20:16:30.890326",
     "exception": false,
     "start_time": "2024-06-23T20:16:28.199654",
     "status": "completed"
    },
    "tags": []
   },
   "outputs": [],
   "source": [
    "import pandas as pd\n",
    "# To convert the user input into meaningful input suitable for the dataset\n",
    "import difflib\n",
    "from sklearn.feature_extraction.text import TfidfVectorizer # Convert textual columns \n",
    "from sklearn.metrics.pairwise import cosine_similarity\n",
    "import pickle as pkl\n",
    "import os"
   ]
  },
  {
   "cell_type": "code",
   "execution_count": 2,
   "id": "f31a0517",
   "metadata": {
    "execution": {
     "iopub.execute_input": "2024-06-23T20:16:30.902019Z",
     "iopub.status.busy": "2024-06-23T20:16:30.901263Z",
     "iopub.status.idle": "2024-06-23T20:16:31.702483Z",
     "shell.execute_reply": "2024-06-23T20:16:31.701156Z"
    },
    "papermill": {
     "duration": 0.810393,
     "end_time": "2024-06-23T20:16:31.705697",
     "exception": false,
     "start_time": "2024-06-23T20:16:30.895304",
     "status": "completed"
    },
    "tags": []
   },
   "outputs": [
    {
     "data": {
      "text/plain": [
       "(4803, 24)"
      ]
     },
     "execution_count": 2,
     "metadata": {},
     "output_type": "execute_result"
    }
   ],
   "source": [
    "# Load the dataset\n",
    "Movies_dataset = pd.read_csv('preparingsimilarities\\movies.csv')\n",
    "# Show the first five rows in the dataset\n",
    "Movies_dataset.head()\n",
    "# Show the last five rows in the dataset\n",
    "Movies_dataset.tail()\n",
    "# Show the dataset shape\n",
    "Movies_dataset.shape"
   ]
  },
  {
   "cell_type": "code",
   "execution_count": 3,
   "id": "1ebece47",
   "metadata": {
    "execution": {
     "iopub.execute_input": "2024-06-23T20:16:31.718429Z",
     "iopub.status.busy": "2024-06-23T20:16:31.718034Z",
     "iopub.status.idle": "2024-06-23T20:16:31.726836Z",
     "shell.execute_reply": "2024-06-23T20:16:31.725467Z"
    },
    "papermill": {
     "duration": 0.01975,
     "end_time": "2024-06-23T20:16:31.730481",
     "exception": false,
     "start_time": "2024-06-23T20:16:31.710731",
     "status": "completed"
    },
    "tags": []
   },
   "outputs": [
    {
     "data": {
      "text/plain": [
       "['genres', 'keywords', 'tagline', 'cast', 'director']"
      ]
     },
     "execution_count": 3,
     "metadata": {},
     "output_type": "execute_result"
    }
   ],
   "source": [
    "# Select the most relevant features for the recommendation\n",
    "selected_features = ['genres','keywords','tagline','cast','director']\n",
    "selected_features"
   ]
  },
  {
   "cell_type": "code",
   "execution_count": 4,
   "id": "de3ebcc4",
   "metadata": {
    "execution": {
     "iopub.execute_input": "2024-06-23T20:16:31.745078Z",
     "iopub.status.busy": "2024-06-23T20:16:31.744486Z",
     "iopub.status.idle": "2024-06-23T20:16:31.781274Z",
     "shell.execute_reply": "2024-06-23T20:16:31.780004Z"
    },
    "papermill": {
     "duration": 0.048889,
     "end_time": "2024-06-23T20:16:31.785075",
     "exception": false,
     "start_time": "2024-06-23T20:16:31.736186",
     "status": "completed"
    },
    "tags": []
   },
   "outputs": [
    {
     "name": "stderr",
     "output_type": "stream",
     "text": [
      "/tmp/ipykernel_18/853968360.py:5: FutureWarning: A value is trying to be set on a copy of a DataFrame or Series through chained assignment using an inplace method.\n",
      "The behavior will change in pandas 3.0. This inplace method will never work because the intermediate object on which we are setting values always behaves as a copy.\n",
      "\n",
      "For example, when doing 'df[col].method(value, inplace=True)', try using 'df.method({col: value}, inplace=True)' or df[col] = df[col].method(value) instead, to perform the operation inplace on the original object.\n",
      "\n",
      "\n",
      "  Movies_dataset[feature].fillna('',inplace=True)\n"
     ]
    }
   ],
   "source": [
    "# Check about the none(missing) values in the dataset to decide if will make a data cleaning or not\n",
    "Movies_dataset.isnull().sum()\n",
    "# Make a data cleaning for 'genres','keywords','tagline','cast' and 'director' choosed columns \n",
    "for feature in selected_features:\n",
    "    Movies_dataset[feature].fillna('',inplace=True)"
   ]
  },
  {
   "cell_type": "code",
   "execution_count": 5,
   "id": "157ea030",
   "metadata": {
    "execution": {
     "iopub.execute_input": "2024-06-23T20:16:31.801057Z",
     "iopub.status.busy": "2024-06-23T20:16:31.800522Z",
     "iopub.status.idle": "2024-06-23T20:16:31.824384Z",
     "shell.execute_reply": "2024-06-23T20:16:31.822913Z"
    },
    "papermill": {
     "duration": 0.035681,
     "end_time": "2024-06-23T20:16:31.827729",
     "exception": false,
     "start_time": "2024-06-23T20:16:31.792048",
     "status": "completed"
    },
    "tags": []
   },
   "outputs": [
    {
     "data": {
      "text/plain": [
       "0       Action Adventure Fantasy Science Fiction cultu...\n",
       "1       Adventure Fantasy Action ocean drug abuse exot...\n",
       "2       Action Adventure Crime spy based on novel secr...\n",
       "3       Action Crime Drama Thriller dc comics crime fi...\n",
       "4       Action Adventure Science Fiction based on nove...\n",
       "                              ...                        \n",
       "4798    Action Crime Thriller united states\\u2013mexic...\n",
       "4799    Comedy Romance  A newlywed couple's honeymoon ...\n",
       "4800    Comedy Drama Romance TV Movie date love at fir...\n",
       "4801      A New Yorker in Shanghai Daniel Henney Eliza...\n",
       "4802    Documentary obsession camcorder crush dream gi...\n",
       "Length: 4803, dtype: object"
      ]
     },
     "execution_count": 5,
     "metadata": {},
     "output_type": "execute_result"
    }
   ],
   "source": [
    "# Choose the selected features for the recommendation and make a new dataset\n",
    "combined_features = Movies_dataset['genres']+' '+Movies_dataset['keywords']+' '+Movies_dataset['tagline']+' '+Movies_dataset['cast']+' '+Movies_dataset['director']\n",
    "combined_features"
   ]
  },
  {
   "cell_type": "code",
   "execution_count": 6,
   "id": "4b15e399",
   "metadata": {
    "collapsed": true,
    "execution": {
     "iopub.execute_input": "2024-06-23T20:16:31.845390Z",
     "iopub.status.busy": "2024-06-23T20:16:31.844539Z",
     "iopub.status.idle": "2024-06-23T20:16:33.007710Z",
     "shell.execute_reply": "2024-06-23T20:16:33.005367Z"
    },
    "jupyter": {
     "outputs_hidden": true
    },
    "papermill": {
     "duration": 1.17638,
     "end_time": "2024-06-23T20:16:33.011128",
     "exception": false,
     "start_time": "2024-06-23T20:16:31.834748",
     "status": "completed"
    },
    "tags": []
   },
   "outputs": [
    {
     "name": "stdout",
     "output_type": "stream",
     "text": [
      "  (0, 2387)\t0.17387762611499494\n",
      "  (0, 7649)\t0.11355691458889829\n",
      "  (0, 12866)\t0.19553338573938647\n",
      "  (0, 10114)\t0.16165931117025054\n",
      "  (0, 8649)\t0.22860674889222501\n",
      "  (0, 14432)\t0.1525185407602397\n",
      "  (0, 16454)\t0.19975784468313598\n",
      "  (0, 13897)\t0.2073363856597466\n",
      "  (0, 13161)\t0.21920124762693652\n",
      "  (0, 17051)\t0.20332801528845756\n",
      "  (0, 16774)\t0.23801225015751357\n",
      "  (0, 13191)\t0.15121581535902417\n",
      "  (0, 11351)\t0.2739303704041666\n",
      "  (0, 16765)\t0.12906888267705946\n",
      "  (0, 4882)\t0.2418630583829073\n",
      "  (0, 14101)\t0.21535043940154278\n",
      "  (0, 3177)\t0.25126855964819583\n",
      "  (0, 16375)\t0.1263324200909883\n",
      "  (0, 14202)\t0.3418956777020543\n",
      "  (0, 5754)\t0.16577485025092195\n",
      "  (0, 3018)\t0.22356693392633634\n",
      "  (0, 3627)\t0.21535043940154278\n",
      "  (0, 5366)\t0.10433355352725562\n",
      "  (0, 13440)\t0.10433355352725562\n",
      "  (0, 5204)\t0.11182749749508697\n",
      "  :\t:\n",
      "  (4801, 13017)\t0.29414364992580866\n",
      "  (4801, 13672)\t0.28404411818176767\n",
      "  (4801, 17027)\t0.29414364992580866\n",
      "  (4801, 4774)\t0.2518762905014918\n",
      "  (4801, 397)\t0.18067495553272095\n",
      "  (4801, 6846)\t0.29414364992580866\n",
      "  (4801, 11510)\t0.21970846282121584\n",
      "  (4801, 10803)\t0.13763097140614916\n",
      "  (4801, 3745)\t0.3406904318523904\n",
      "  (4802, 6903)\t0.5700048226105303\n",
      "  (4802, 5297)\t0.22969114490410403\n",
      "  (4802, 3604)\t0.262512960498006\n",
      "  (4802, 2380)\t0.24002350969074696\n",
      "  (4802, 4552)\t0.24002350969074696\n",
      "  (4802, 6332)\t0.21753405888348784\n",
      "  (4802, 4318)\t0.1538239182675544\n",
      "  (4802, 12831)\t0.1696476532191718\n",
      "  (4802, 1289)\t0.1960747079005741\n",
      "  (4802, 4473)\t0.19504460807622875\n",
      "  (4802, 3387)\t0.21753405888348784\n",
      "  (4802, 6072)\t0.18056463596934083\n",
      "  (4802, 4917)\t0.16078053641367315\n",
      "  (4802, 2087)\t0.3099656128577656\n",
      "  (4802, 4463)\t0.16784466610624255\n",
      "  (4802, 11026)\t0.17867407682173203\n"
     ]
    }
   ],
   "source": [
    "# Convert textual columns in selected features into meaningful numeric columns\n",
    "Vectorizer = TfidfVectorizer(min_df=1,stop_words='english', lowercase=True)\n",
    "vectorized_features = Vectorizer.fit_transform(combined_features)\n",
    "print(vectorized_features)\n",
    "# Find the similarity scores using cosine similarity\n",
    "similarity = cosine_similarity(vectorized_features)\n",
    "similarity\n",
    "# Create a list for all the movies names\n",
    "movies_names = Movies_dataset['title'].tolist()"
   ]
  },
  {
   "cell_type": "code",
   "execution_count": 7,
   "id": "a6ebe863",
   "metadata": {
    "execution": {
     "iopub.execute_input": "2024-06-23T20:16:33.024933Z",
     "iopub.status.busy": "2024-06-23T20:16:33.024398Z",
     "iopub.status.idle": "2024-06-23T20:16:33.034118Z",
     "shell.execute_reply": "2024-06-23T20:16:33.032676Z"
    },
    "papermill": {
     "duration": 0.020012,
     "end_time": "2024-06-23T20:16:33.036987",
     "exception": false,
     "start_time": "2024-06-23T20:16:33.016975",
     "status": "completed"
    },
    "tags": []
   },
   "outputs": [
    {
     "data": {
      "text/plain": [
       "array([[1.        , 0.04720973, 0.03891121, ..., 0.        , 0.        ,\n",
       "        0.        ],\n",
       "       [0.04720973, 1.        , 0.021542  , ..., 0.01267122, 0.        ,\n",
       "        0.        ],\n",
       "       [0.03891121, 0.021542  , 1.        , ..., 0.        , 0.05626942,\n",
       "        0.        ],\n",
       "       ...,\n",
       "       [0.        , 0.01267122, 0.        , ..., 1.        , 0.        ,\n",
       "        0.02730605],\n",
       "       [0.        , 0.        , 0.05626942, ..., 0.        , 1.        ,\n",
       "        0.        ],\n",
       "       [0.        , 0.        , 0.        , ..., 0.02730605, 0.        ,\n",
       "        1.        ]])"
      ]
     },
     "execution_count": 7,
     "metadata": {},
     "output_type": "execute_result"
    }
   ],
   "source": [
    "# Show similarities\n",
    "similarity"
   ]
  },
  {
   "cell_type": "code",
   "execution_count": 8,
   "id": "5b1acd41",
   "metadata": {
    "execution": {
     "iopub.execute_input": "2024-06-23T20:16:33.050824Z",
     "iopub.status.busy": "2024-06-23T20:16:33.050397Z",
     "iopub.status.idle": "2024-06-23T20:16:33.060904Z",
     "shell.execute_reply": "2024-06-23T20:16:33.059751Z"
    },
    "papermill": {
     "duration": 0.020805,
     "end_time": "2024-06-23T20:16:33.063599",
     "exception": false,
     "start_time": "2024-06-23T20:16:33.042794",
     "status": "completed"
    },
    "tags": []
   },
   "outputs": [],
   "source": [
    "# Making a recommendation system by taking the user movie name and find the first 20 similar movies for the user input\n",
    "\n",
    "def recommend(user_movie_name):\n",
    "\n",
    "    # Find the close matches between the user input and the movies names\n",
    "    close_matches_names = difflib.get_close_matches(user_movie_name,movies_names)\n",
    "    if close_matches_names:\n",
    "        close_matches_names = close_matches_names[0]\n",
    "    print(close_matches_names)\n",
    "\n",
    "    # Find the index of the closest movie of the user input\n",
    "    index_closest_movie = Movies_dataset[Movies_dataset.title==close_matches_names]['index'].values[0]\n",
    "    print(index_closest_movie)\n",
    "\n",
    "    # Get a list of similar movies\n",
    "    similarity_list = list(enumerate(similarity[index_closest_movie]))\n",
    "    similarity_list\n",
    "\n",
    "    # Sort the list of similarity based on the similarity values and reverse it from biggest to smallest\n",
    "    similarity_list_sorted = sorted(similarity_list,key=lambda x:x[1],reverse=True)\n",
    "    similarity_list_sorted\n",
    "\n",
    "    # Make the Recommendation program for the user input\n",
    "    num_recommended_movies=20\n",
    "    list_movies = []\n",
    "    for NumMovie in range(len(similarity_list_sorted)):\n",
    "        if NumMovie==num_recommended_movies:\n",
    "            break\n",
    "        list_movies.append(f\"({NumMovie+1}) {Movies_dataset.iloc[similarity_list_sorted[NumMovie][0],:].title}\")\n",
    "    return list_movies\n"
   ]
  },
  {
   "cell_type": "code",
   "execution_count": 9,
   "id": "02000933",
   "metadata": {
    "execution": {
     "iopub.execute_input": "2024-06-23T20:16:33.077165Z",
     "iopub.status.busy": "2024-06-23T20:16:33.076706Z",
     "iopub.status.idle": "2024-06-23T20:16:33.135168Z",
     "shell.execute_reply": "2024-06-23T20:16:33.133503Z"
    },
    "papermill": {
     "duration": 0.069709,
     "end_time": "2024-06-23T20:16:33.139104",
     "exception": false,
     "start_time": "2024-06-23T20:16:33.069395",
     "status": "completed"
    },
    "tags": []
   },
   "outputs": [
    {
     "name": "stdout",
     "output_type": "stream",
     "text": [
      "Iron Man\n",
      "68\n",
      "['(1) Iron Man', '(2) Iron Man 2', '(3) Iron Man 3', '(4) Avengers: Age of Ultron', '(5) The Avengers', '(6) Captain America: Civil War', '(7) Captain America: The Winter Soldier', '(8) Ant-Man', '(9) X-Men', '(10) Made', '(11) X2', '(12) X-Men: Apocalypse', '(13) X-Men: First Class', '(14) The Incredible Hulk', '(15) The Helix... Loaded', '(16) Captain America: The First Avenger', '(17) Guardians of the Galaxy', '(18) Kick-Ass 2', '(19) Thor: The Dark World', '(20) Deadpool']\n"
     ]
    }
   ],
   "source": [
    "# Try to use recommend function to recommend first 20 similar films for iron man\n",
    "print(recommend('iron man'))"
   ]
  },
  {
   "cell_type": "code",
   "execution_count": 10,
   "id": "e4fca719",
   "metadata": {},
   "outputs": [
    {
     "name": "stdout",
     "output_type": "stream",
     "text": [
      "Similarity object has been saved to 'preparingsimilarities\\similarity.pkl'\n"
     ]
    }
   ],
   "source": [
    "file_path = 'preparingsimilarities\\similarity.pkl'\n",
    "\n",
    "# Check if the file already exists\n",
    "if not os.path.exists(file_path):\n",
    "    # Save the similarity object to the file\n",
    "    pkl.dump(similarity, open(file_path, 'wb'))\n",
    "    print(f\"Similarity object has been saved to '{file_path}'\")"
   ]
  }
 ],
 "metadata": {
  "kaggle": {
   "accelerator": "none",
   "dataSources": [
    {
     "datasetId": 4788388,
     "sourceId": 8107018,
     "sourceType": "datasetVersion"
    }
   ],
   "dockerImageVersionId": 30684,
   "isGpuEnabled": false,
   "isInternetEnabled": true,
   "language": "python",
   "sourceType": "notebook"
  },
  "kernelspec": {
   "display_name": "Python 3",
   "language": "python",
   "name": "python3"
  },
  "language_info": {
   "codemirror_mode": {
    "name": "ipython",
    "version": 3
   },
   "file_extension": ".py",
   "mimetype": "text/x-python",
   "name": "python",
   "nbconvert_exporter": "python",
   "pygments_lexer": "ipython3",
   "version": "3.10.2"
  },
  "papermill": {
   "default_parameters": {},
   "duration": 9.297602,
   "end_time": "2024-06-23T20:16:34.081574",
   "environment_variables": {},
   "exception": null,
   "input_path": "__notebook__.ipynb",
   "output_path": "__notebook__.ipynb",
   "parameters": {},
   "start_time": "2024-06-23T20:16:24.783972",
   "version": "2.5.0"
  }
 },
 "nbformat": 4,
 "nbformat_minor": 5
}
